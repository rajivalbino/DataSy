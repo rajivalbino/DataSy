{
 "metadata": {
  "language_info": {
   "codemirror_mode": {
    "name": "ipython",
    "version": 3
   },
   "file_extension": ".py",
   "mimetype": "text/x-python",
   "name": "python",
   "nbconvert_exporter": "python",
   "pygments_lexer": "ipython3",
   "version": "3.8.5-final"
  },
  "orig_nbformat": 2,
  "kernelspec": {
   "name": "python3",
   "display_name": "Python 3.8.5 32-bit",
   "metadata": {
    "interpreter": {
     "hash": "6d58817d7a36abfa3a827e4c983e24a2b2aeec7ad475bf8b9406aeab7b3302d2"
    }
   }
  }
 },
 "nbformat": 4,
 "nbformat_minor": 2,
 "cells": [
  {
   "source": [
    "# 7 Wonders Data Analysis\n",
    "![7 Wonders](img.jpg)\n"
   ],
   "cell_type": "markdown",
   "metadata": {}
  },
  {
   "cell_type": "code",
   "execution_count": null,
   "metadata": {},
   "outputs": [],
   "source": [
    "import numpy as np\n",
    "import pandas as pd\n",
    "import matplotlib.pyplot as plt\n",
    "\n",
    "plt.rcParams['figure.figsize'] = [8, 8]\n",
    "plt.rcParams['figure.dpi'] = 80"
   ]
  },
  {
   "source": [
    "### Load Data"
   ],
   "cell_type": "markdown",
   "metadata": {}
  },
  {
   "source": [
    "df = pd.read_csv('data/7wonders.csv')\n",
    "df.dropna(axis=1, inplace=True)\n",
    "df.head()"
   ],
   "cell_type": "code",
   "metadata": {},
   "execution_count": null,
   "outputs": []
  },
  {
   "source": [
    "### Measuring matches\n",
    "\n",
    "matches : list with numbers representing each match\n",
    "\n",
    "matches_played : dict with each player match count"
   ],
   "cell_type": "markdown",
   "metadata": {}
  },
  {
   "cell_type": "code",
   "execution_count": null,
   "metadata": {},
   "outputs": [],
   "source": [
    "matches = list(set(df['Jogo#']))\n",
    "matches_played = df['Jogador'].value_counts().to_dict()"
   ]
  },
  {
   "source": [
    "Set index to Jogo# so df.loc\\[match_number\\] can refer to a single match"
   ],
   "cell_type": "markdown",
   "metadata": {}
  },
  {
   "cell_type": "code",
   "execution_count": null,
   "metadata": {},
   "outputs": [],
   "source": [
    "df_indexed = df.set_index('Jogo#')\n",
    "df_indexed.head(10)"
   ]
  },
  {
   "source": [
    "### Measuring wins"
   ],
   "cell_type": "markdown",
   "metadata": {}
  },
  {
   "cell_type": "code",
   "execution_count": null,
   "metadata": {},
   "outputs": [],
   "source": [
    "wins = dict.fromkeys(list(set(df['Jogador'])), 0)\n",
    "\n",
    "for match in matches:\n",
    "    temp_df = df_indexed.loc[match]\n",
    "    wins[temp_df[temp_df['Total']==temp_df['Total'].max()].iloc[0]['Jogador']] += 1\n",
    "\n",
    "wins = dict(sorted(wins.items(), key=lambda x:x[1], reverse=True)) \n",
    "print(wins)"
   ]
  },
  {
   "cell_type": "code",
   "execution_count": null,
   "metadata": {},
   "outputs": [],
   "source": [
    "winrate = {}\n",
    "\n",
    "for key in wins.keys():\n",
    "    winrate[key] = 100.0 * wins[key] / matches_played[key]\n",
    "\n",
    "winrate = dict(sorted(winrate.items(), key=lambda x: x[1], reverse=True))\n",
    "print(winrate)"
   ]
  },
  {
   "cell_type": "code",
   "execution_count": null,
   "metadata": {},
   "outputs": [],
   "source": [
    "plot_winrate = {k:v for k,v in winrate.items() if v != 0}\n",
    "\n",
    "plt.bar(*zip(*plot_winrate.items()))\n",
    "#plt.xticks(rotation='vertical')\n",
    "plt.title('Porcentagem de Vitórias')\n",
    "plt.ylim(0,100)\n",
    "plt.ylabel('Jogos Vencidos por Número de Jogos (%)')\n",
    "#plt.grid(True, axis='y', linestyle='--')\n",
    "\n",
    "for k,v in plot_winrate.items():\n",
    "    plt.annotate('{:.1f}%'.format(v), (k,v), textcoords='offset points', xytext=(0,5), ha='center')\n",
    "    #plt.annotate('{}/{}'.format(wins[k], matches_played[k]), (k,v), textcoords='offset points', xytext=(0,-15), ha='center')\n",
    "\n",
    "plt.show()"
   ]
  },
  {
   "cell_type": "code",
   "execution_count": null,
   "metadata": {},
   "outputs": [],
   "source": [
    "plot_matches_played = matches_played.copy()\n",
    "thresh = 4\n",
    "others = 0\n",
    "keys_to_remove = []\n",
    "for k,v in plot_matches_played.items():\n",
    "    if v <= thresh:\n",
    "        others += v\n",
    "        keys_to_remove.append(k)\n",
    "\n",
    "for k in keys_to_remove:\n",
    "    del plot_matches_played[k]\n",
    "plot_matches_played['Outros'] = others\n",
    "\n",
    "plt.pie([float(v) for v in plot_matches_played.values()], labels=plot_matches_played.keys(),\n",
    "autopct=lambda m: '{:.0f}'.format(m/100.0*sum(plot_matches_played.values())))\n",
    "plt.title('Partidas Jogadas')\n",
    "\n",
    "my_circle=plt.Circle( (0,0), 0.5, color='white')\n",
    "p=plt.gcf()\n",
    "p.gca().add_artist(my_circle)\n",
    "\n",
    "plt.show()"
   ]
  },
  {
   "cell_type": "code",
   "execution_count": null,
   "metadata": {},
   "outputs": [],
   "source": []
  }
 ]
}