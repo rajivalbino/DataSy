{
 "metadata": {
  "language_info": {
   "codemirror_mode": {
    "name": "ipython",
    "version": 3
   },
   "file_extension": ".py",
   "mimetype": "text/x-python",
   "name": "python",
   "nbconvert_exporter": "python",
   "pygments_lexer": "ipython3",
   "version": "3.8.5-final"
  },
  "orig_nbformat": 2,
  "kernelspec": {
   "name": "python3",
   "display_name": "Python 3.8.5 32-bit",
   "metadata": {
    "interpreter": {
     "hash": "6d58817d7a36abfa3a827e4c983e24a2b2aeec7ad475bf8b9406aeab7b3302d2"
    }
   }
  }
 },
 "nbformat": 4,
 "nbformat_minor": 2,
 "cells": [
  {
   "cell_type": "code",
   "execution_count": 1,
   "metadata": {},
   "outputs": [],
   "source": [
    "import numpy as np\n",
    "import pandas as pd\n",
    "import matplotlib.pyplot as plt"
   ]
  },
  {
   "source": [
    "### Load Data"
   ],
   "cell_type": "markdown",
   "metadata": {}
  },
  {
   "source": [
    "df = pd.read_csv('data/7wonders.csv')\n",
    "df.dropna(axis=1, inplace=True)"
   ],
   "cell_type": "code",
   "metadata": {},
   "execution_count": 6,
   "outputs": []
  },
  {
   "cell_type": "code",
   "execution_count": 7,
   "metadata": {},
   "outputs": [
    {
     "output_type": "execute_result",
     "data": {
      "text/plain": [
       "   Jogo# Jogador  Militar  Riqueza  Maravilha  Civil  Comércio  Ciência  \\\n",
       "0      1   Radif       10        0         13     14         3        0   \n",
       "1      1    Guga        1        7         10      3         3       36   \n",
       "2      1   Rajiv        8        4          3     12         9       18   \n",
       "3      1    Lais        1        8         10     26         5        0   \n",
       "4      2   Rajiv       -3        4         10      0         0       64   \n",
       "\n",
       "   Guilda  Cidade  Total  \n",
       "0      29       2     71  \n",
       "1       5       4     69  \n",
       "2       0       8     62  \n",
       "3       0       0     50  \n",
       "4      10       2     87  "
      ],
      "text/html": "<div>\n<style scoped>\n    .dataframe tbody tr th:only-of-type {\n        vertical-align: middle;\n    }\n\n    .dataframe tbody tr th {\n        vertical-align: top;\n    }\n\n    .dataframe thead th {\n        text-align: right;\n    }\n</style>\n<table border=\"1\" class=\"dataframe\">\n  <thead>\n    <tr style=\"text-align: right;\">\n      <th></th>\n      <th>Jogo#</th>\n      <th>Jogador</th>\n      <th>Militar</th>\n      <th>Riqueza</th>\n      <th>Maravilha</th>\n      <th>Civil</th>\n      <th>Comércio</th>\n      <th>Ciência</th>\n      <th>Guilda</th>\n      <th>Cidade</th>\n      <th>Total</th>\n    </tr>\n  </thead>\n  <tbody>\n    <tr>\n      <th>0</th>\n      <td>1</td>\n      <td>Radif</td>\n      <td>10</td>\n      <td>0</td>\n      <td>13</td>\n      <td>14</td>\n      <td>3</td>\n      <td>0</td>\n      <td>29</td>\n      <td>2</td>\n      <td>71</td>\n    </tr>\n    <tr>\n      <th>1</th>\n      <td>1</td>\n      <td>Guga</td>\n      <td>1</td>\n      <td>7</td>\n      <td>10</td>\n      <td>3</td>\n      <td>3</td>\n      <td>36</td>\n      <td>5</td>\n      <td>4</td>\n      <td>69</td>\n    </tr>\n    <tr>\n      <th>2</th>\n      <td>1</td>\n      <td>Rajiv</td>\n      <td>8</td>\n      <td>4</td>\n      <td>3</td>\n      <td>12</td>\n      <td>9</td>\n      <td>18</td>\n      <td>0</td>\n      <td>8</td>\n      <td>62</td>\n    </tr>\n    <tr>\n      <th>3</th>\n      <td>1</td>\n      <td>Lais</td>\n      <td>1</td>\n      <td>8</td>\n      <td>10</td>\n      <td>26</td>\n      <td>5</td>\n      <td>0</td>\n      <td>0</td>\n      <td>0</td>\n      <td>50</td>\n    </tr>\n    <tr>\n      <th>4</th>\n      <td>2</td>\n      <td>Rajiv</td>\n      <td>-3</td>\n      <td>4</td>\n      <td>10</td>\n      <td>0</td>\n      <td>0</td>\n      <td>64</td>\n      <td>10</td>\n      <td>2</td>\n      <td>87</td>\n    </tr>\n  </tbody>\n</table>\n</div>"
     },
     "metadata": {},
     "execution_count": 7
    }
   ],
   "source": [
    "df.head()"
   ]
  },
  {
   "cell_type": "code",
   "execution_count": null,
   "metadata": {},
   "outputs": [],
   "source": []
  }
 ]
}