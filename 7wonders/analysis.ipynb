{
 "metadata": {
  "language_info": {
   "codemirror_mode": {
    "name": "ipython",
    "version": 3
   },
   "file_extension": ".py",
   "mimetype": "text/x-python",
   "name": "python",
   "nbconvert_exporter": "python",
   "pygments_lexer": "ipython3",
   "version": "3.8.5-final"
  },
  "orig_nbformat": 2,
  "kernelspec": {
   "name": "python3",
   "display_name": "Python 3.8.5 32-bit",
   "metadata": {
    "interpreter": {
     "hash": "6d58817d7a36abfa3a827e4c983e24a2b2aeec7ad475bf8b9406aeab7b3302d2"
    }
   }
  }
 },
 "nbformat": 4,
 "nbformat_minor": 2,
 "cells": [
  {
   "cell_type": "code",
   "execution_count": 7,
   "metadata": {},
   "outputs": [],
   "source": [
    "import numpy as np\n",
    "import pandas as pd\n",
    "import matplotlib.pyplot as plt"
   ]
  },
  {
   "source": [
    "### Load Data"
   ],
   "cell_type": "markdown",
   "metadata": {}
  },
  {
   "source": [
    "df = pd.read_csv('data/7wonders.csv')\n",
    "df.dropna(axis=1, inplace=True)"
   ],
   "cell_type": "code",
   "metadata": {},
   "execution_count": 13,
   "outputs": []
  },
  {
   "cell_type": "code",
   "execution_count": 14,
   "metadata": {},
   "outputs": [
    {
     "output_type": "execute_result",
     "data": {
      "text/plain": [
       "   Jogo# Jogador  Militar  Riqueza  Maravilha  Civil  Comércio  Ciência  \\\n",
       "0      1   Radif       10        0         13     14         3        0   \n",
       "1      1    Guga        1        7         10      3         3       36   \n",
       "2      1   Rajiv        8        4          3     12         9       18   \n",
       "3      1    Lais        1        8         10     26         5        0   \n",
       "4      2   Rajiv       -3        4         10      0         0       64   \n",
       "5      2   Clara        7       13          7     31         7        0   \n",
       "6      2    Lais        4        3          7     18         0        0   \n",
       "7      2    Theo        8        3          5     14         3        0   \n",
       "8      3    Theo       18        3         10     11         2        0   \n",
       "9      3   Radif       -2        5          5     24         4        0   \n",
       "\n",
       "   Guilda  Cidade  Total  \n",
       "0      29       2     71  \n",
       "1       5       4     69  \n",
       "2       0       8     62  \n",
       "3       0       0     50  \n",
       "4      10       2     87  \n",
       "5       0       0     65  \n",
       "6       0      14     46  \n",
       "7      14       2     49  \n",
       "8      13       0     57  \n",
       "9      12       0     48  "
      ],
      "text/html": "<div>\n<style scoped>\n    .dataframe tbody tr th:only-of-type {\n        vertical-align: middle;\n    }\n\n    .dataframe tbody tr th {\n        vertical-align: top;\n    }\n\n    .dataframe thead th {\n        text-align: right;\n    }\n</style>\n<table border=\"1\" class=\"dataframe\">\n  <thead>\n    <tr style=\"text-align: right;\">\n      <th></th>\n      <th>Jogo#</th>\n      <th>Jogador</th>\n      <th>Militar</th>\n      <th>Riqueza</th>\n      <th>Maravilha</th>\n      <th>Civil</th>\n      <th>Comércio</th>\n      <th>Ciência</th>\n      <th>Guilda</th>\n      <th>Cidade</th>\n      <th>Total</th>\n    </tr>\n  </thead>\n  <tbody>\n    <tr>\n      <th>0</th>\n      <td>1</td>\n      <td>Radif</td>\n      <td>10</td>\n      <td>0</td>\n      <td>13</td>\n      <td>14</td>\n      <td>3</td>\n      <td>0</td>\n      <td>29</td>\n      <td>2</td>\n      <td>71</td>\n    </tr>\n    <tr>\n      <th>1</th>\n      <td>1</td>\n      <td>Guga</td>\n      <td>1</td>\n      <td>7</td>\n      <td>10</td>\n      <td>3</td>\n      <td>3</td>\n      <td>36</td>\n      <td>5</td>\n      <td>4</td>\n      <td>69</td>\n    </tr>\n    <tr>\n      <th>2</th>\n      <td>1</td>\n      <td>Rajiv</td>\n      <td>8</td>\n      <td>4</td>\n      <td>3</td>\n      <td>12</td>\n      <td>9</td>\n      <td>18</td>\n      <td>0</td>\n      <td>8</td>\n      <td>62</td>\n    </tr>\n    <tr>\n      <th>3</th>\n      <td>1</td>\n      <td>Lais</td>\n      <td>1</td>\n      <td>8</td>\n      <td>10</td>\n      <td>26</td>\n      <td>5</td>\n      <td>0</td>\n      <td>0</td>\n      <td>0</td>\n      <td>50</td>\n    </tr>\n    <tr>\n      <th>4</th>\n      <td>2</td>\n      <td>Rajiv</td>\n      <td>-3</td>\n      <td>4</td>\n      <td>10</td>\n      <td>0</td>\n      <td>0</td>\n      <td>64</td>\n      <td>10</td>\n      <td>2</td>\n      <td>87</td>\n    </tr>\n    <tr>\n      <th>5</th>\n      <td>2</td>\n      <td>Clara</td>\n      <td>7</td>\n      <td>13</td>\n      <td>7</td>\n      <td>31</td>\n      <td>7</td>\n      <td>0</td>\n      <td>0</td>\n      <td>0</td>\n      <td>65</td>\n    </tr>\n    <tr>\n      <th>6</th>\n      <td>2</td>\n      <td>Lais</td>\n      <td>4</td>\n      <td>3</td>\n      <td>7</td>\n      <td>18</td>\n      <td>0</td>\n      <td>0</td>\n      <td>0</td>\n      <td>14</td>\n      <td>46</td>\n    </tr>\n    <tr>\n      <th>7</th>\n      <td>2</td>\n      <td>Theo</td>\n      <td>8</td>\n      <td>3</td>\n      <td>5</td>\n      <td>14</td>\n      <td>3</td>\n      <td>0</td>\n      <td>14</td>\n      <td>2</td>\n      <td>49</td>\n    </tr>\n    <tr>\n      <th>8</th>\n      <td>3</td>\n      <td>Theo</td>\n      <td>18</td>\n      <td>3</td>\n      <td>10</td>\n      <td>11</td>\n      <td>2</td>\n      <td>0</td>\n      <td>13</td>\n      <td>0</td>\n      <td>57</td>\n    </tr>\n    <tr>\n      <th>9</th>\n      <td>3</td>\n      <td>Radif</td>\n      <td>-2</td>\n      <td>5</td>\n      <td>5</td>\n      <td>24</td>\n      <td>4</td>\n      <td>0</td>\n      <td>12</td>\n      <td>0</td>\n      <td>48</td>\n    </tr>\n  </tbody>\n</table>\n</div>"
     },
     "metadata": {},
     "execution_count": 14
    }
   ],
   "source": [
    "df.head(10)"
   ]
  },
  {
   "source": [
    "List of matches"
   ],
   "cell_type": "markdown",
   "metadata": {}
  },
  {
   "cell_type": "code",
   "execution_count": 15,
   "metadata": {},
   "outputs": [
    {
     "output_type": "stream",
     "name": "stdout",
     "text": [
      "[1, 2, 3, 4, 5, 6, 7, 8, 9, 10, 11, 12, 13, 14, 15, 16, 17, 18, 19, 20, 21, 22, 23, 24, 25, 26, 27, 28, 29, 30, 31, 32, 33, 34, 35, 36, 37, 38, 39, 40, 41, 42, 43, 44, 45, 46, 47, 48, 49, 50, 51, 52, 53, 54, 55, 56, 57, 58, 59, 60, 61, 62, 63, 64, 65, 66]\n"
     ]
    }
   ],
   "source": [
    "matches = list(set(df['Jogo#']))\n",
    "print(matches)"
   ]
  },
  {
   "source": [
    "Set index to Jogo# so df.loc\\[match_number\\] can refer to a single match"
   ],
   "cell_type": "markdown",
   "metadata": {}
  },
  {
   "cell_type": "code",
   "execution_count": 16,
   "metadata": {},
   "outputs": [
    {
     "output_type": "execute_result",
     "data": {
      "text/plain": [
       "      Jogador  Militar  Riqueza  Maravilha  Civil  Comércio  Ciência  Guilda  \\\n",
       "Jogo#                                                                          \n",
       "1       Radif       10        0         13     14         3        0      29   \n",
       "1        Guga        1        7         10      3         3       36       5   \n",
       "1       Rajiv        8        4          3     12         9       18       0   \n",
       "1        Lais        1        8         10     26         5        0       0   \n",
       "2       Rajiv       -3        4         10      0         0       64      10   \n",
       "2       Clara        7       13          7     31         7        0       0   \n",
       "2        Lais        4        3          7     18         0        0       0   \n",
       "2        Theo        8        3          5     14         3        0      14   \n",
       "3        Theo       18        3         10     11         2        0      13   \n",
       "3       Radif       -2        5          5     24         4        0      12   \n",
       "\n",
       "       Cidade  Total  \n",
       "Jogo#                 \n",
       "1           2     71  \n",
       "1           4     69  \n",
       "1           8     62  \n",
       "1           0     50  \n",
       "2           2     87  \n",
       "2           0     65  \n",
       "2          14     46  \n",
       "2           2     49  \n",
       "3           0     57  \n",
       "3           0     48  "
      ],
      "text/html": "<div>\n<style scoped>\n    .dataframe tbody tr th:only-of-type {\n        vertical-align: middle;\n    }\n\n    .dataframe tbody tr th {\n        vertical-align: top;\n    }\n\n    .dataframe thead th {\n        text-align: right;\n    }\n</style>\n<table border=\"1\" class=\"dataframe\">\n  <thead>\n    <tr style=\"text-align: right;\">\n      <th></th>\n      <th>Jogador</th>\n      <th>Militar</th>\n      <th>Riqueza</th>\n      <th>Maravilha</th>\n      <th>Civil</th>\n      <th>Comércio</th>\n      <th>Ciência</th>\n      <th>Guilda</th>\n      <th>Cidade</th>\n      <th>Total</th>\n    </tr>\n    <tr>\n      <th>Jogo#</th>\n      <th></th>\n      <th></th>\n      <th></th>\n      <th></th>\n      <th></th>\n      <th></th>\n      <th></th>\n      <th></th>\n      <th></th>\n      <th></th>\n    </tr>\n  </thead>\n  <tbody>\n    <tr>\n      <th>1</th>\n      <td>Radif</td>\n      <td>10</td>\n      <td>0</td>\n      <td>13</td>\n      <td>14</td>\n      <td>3</td>\n      <td>0</td>\n      <td>29</td>\n      <td>2</td>\n      <td>71</td>\n    </tr>\n    <tr>\n      <th>1</th>\n      <td>Guga</td>\n      <td>1</td>\n      <td>7</td>\n      <td>10</td>\n      <td>3</td>\n      <td>3</td>\n      <td>36</td>\n      <td>5</td>\n      <td>4</td>\n      <td>69</td>\n    </tr>\n    <tr>\n      <th>1</th>\n      <td>Rajiv</td>\n      <td>8</td>\n      <td>4</td>\n      <td>3</td>\n      <td>12</td>\n      <td>9</td>\n      <td>18</td>\n      <td>0</td>\n      <td>8</td>\n      <td>62</td>\n    </tr>\n    <tr>\n      <th>1</th>\n      <td>Lais</td>\n      <td>1</td>\n      <td>8</td>\n      <td>10</td>\n      <td>26</td>\n      <td>5</td>\n      <td>0</td>\n      <td>0</td>\n      <td>0</td>\n      <td>50</td>\n    </tr>\n    <tr>\n      <th>2</th>\n      <td>Rajiv</td>\n      <td>-3</td>\n      <td>4</td>\n      <td>10</td>\n      <td>0</td>\n      <td>0</td>\n      <td>64</td>\n      <td>10</td>\n      <td>2</td>\n      <td>87</td>\n    </tr>\n    <tr>\n      <th>2</th>\n      <td>Clara</td>\n      <td>7</td>\n      <td>13</td>\n      <td>7</td>\n      <td>31</td>\n      <td>7</td>\n      <td>0</td>\n      <td>0</td>\n      <td>0</td>\n      <td>65</td>\n    </tr>\n    <tr>\n      <th>2</th>\n      <td>Lais</td>\n      <td>4</td>\n      <td>3</td>\n      <td>7</td>\n      <td>18</td>\n      <td>0</td>\n      <td>0</td>\n      <td>0</td>\n      <td>14</td>\n      <td>46</td>\n    </tr>\n    <tr>\n      <th>2</th>\n      <td>Theo</td>\n      <td>8</td>\n      <td>3</td>\n      <td>5</td>\n      <td>14</td>\n      <td>3</td>\n      <td>0</td>\n      <td>14</td>\n      <td>2</td>\n      <td>49</td>\n    </tr>\n    <tr>\n      <th>3</th>\n      <td>Theo</td>\n      <td>18</td>\n      <td>3</td>\n      <td>10</td>\n      <td>11</td>\n      <td>2</td>\n      <td>0</td>\n      <td>13</td>\n      <td>0</td>\n      <td>57</td>\n    </tr>\n    <tr>\n      <th>3</th>\n      <td>Radif</td>\n      <td>-2</td>\n      <td>5</td>\n      <td>5</td>\n      <td>24</td>\n      <td>4</td>\n      <td>0</td>\n      <td>12</td>\n      <td>0</td>\n      <td>48</td>\n    </tr>\n  </tbody>\n</table>\n</div>"
     },
     "metadata": {},
     "execution_count": 16
    }
   ],
   "source": [
    "df_indexed = df.set_index('Jogo#')\n",
    "df_indexed.head(10)"
   ]
  },
  {
   "cell_type": "code",
   "execution_count": 17,
   "metadata": {},
   "outputs": [
    {
     "output_type": "execute_result",
     "data": {
      "text/plain": [
       "      Jogador  Militar  Riqueza  Maravilha  Civil  Comércio  Ciência  Guilda  \\\n",
       "Jogo#                                                                          \n",
       "1       Radif       10        0         13     14         3        0      29   \n",
       "1        Guga        1        7         10      3         3       36       5   \n",
       "1       Rajiv        8        4          3     12         9       18       0   \n",
       "1        Lais        1        8         10     26         5        0       0   \n",
       "2       Rajiv       -3        4         10      0         0       64      10   \n",
       "2       Clara        7       13          7     31         7        0       0   \n",
       "2        Lais        4        3          7     18         0        0       0   \n",
       "2        Theo        8        3          5     14         3        0      14   \n",
       "3        Theo       18        3         10     11         2        0      13   \n",
       "3       Radif       -2        5          5     24         4        0      12   \n",
       "\n",
       "       Cidade  Total  Posicao  \n",
       "Jogo#                          \n",
       "1           2     71        0  \n",
       "1           4     69        0  \n",
       "1           8     62        0  \n",
       "1           0     50        0  \n",
       "2           2     87        0  \n",
       "2           0     65        0  \n",
       "2          14     46        0  \n",
       "2           2     49        0  \n",
       "3           0     57        0  \n",
       "3           0     48        0  "
      ],
      "text/html": "<div>\n<style scoped>\n    .dataframe tbody tr th:only-of-type {\n        vertical-align: middle;\n    }\n\n    .dataframe tbody tr th {\n        vertical-align: top;\n    }\n\n    .dataframe thead th {\n        text-align: right;\n    }\n</style>\n<table border=\"1\" class=\"dataframe\">\n  <thead>\n    <tr style=\"text-align: right;\">\n      <th></th>\n      <th>Jogador</th>\n      <th>Militar</th>\n      <th>Riqueza</th>\n      <th>Maravilha</th>\n      <th>Civil</th>\n      <th>Comércio</th>\n      <th>Ciência</th>\n      <th>Guilda</th>\n      <th>Cidade</th>\n      <th>Total</th>\n      <th>Posicao</th>\n    </tr>\n    <tr>\n      <th>Jogo#</th>\n      <th></th>\n      <th></th>\n      <th></th>\n      <th></th>\n      <th></th>\n      <th></th>\n      <th></th>\n      <th></th>\n      <th></th>\n      <th></th>\n      <th></th>\n    </tr>\n  </thead>\n  <tbody>\n    <tr>\n      <th>1</th>\n      <td>Radif</td>\n      <td>10</td>\n      <td>0</td>\n      <td>13</td>\n      <td>14</td>\n      <td>3</td>\n      <td>0</td>\n      <td>29</td>\n      <td>2</td>\n      <td>71</td>\n      <td>0</td>\n    </tr>\n    <tr>\n      <th>1</th>\n      <td>Guga</td>\n      <td>1</td>\n      <td>7</td>\n      <td>10</td>\n      <td>3</td>\n      <td>3</td>\n      <td>36</td>\n      <td>5</td>\n      <td>4</td>\n      <td>69</td>\n      <td>0</td>\n    </tr>\n    <tr>\n      <th>1</th>\n      <td>Rajiv</td>\n      <td>8</td>\n      <td>4</td>\n      <td>3</td>\n      <td>12</td>\n      <td>9</td>\n      <td>18</td>\n      <td>0</td>\n      <td>8</td>\n      <td>62</td>\n      <td>0</td>\n    </tr>\n    <tr>\n      <th>1</th>\n      <td>Lais</td>\n      <td>1</td>\n      <td>8</td>\n      <td>10</td>\n      <td>26</td>\n      <td>5</td>\n      <td>0</td>\n      <td>0</td>\n      <td>0</td>\n      <td>50</td>\n      <td>0</td>\n    </tr>\n    <tr>\n      <th>2</th>\n      <td>Rajiv</td>\n      <td>-3</td>\n      <td>4</td>\n      <td>10</td>\n      <td>0</td>\n      <td>0</td>\n      <td>64</td>\n      <td>10</td>\n      <td>2</td>\n      <td>87</td>\n      <td>0</td>\n    </tr>\n    <tr>\n      <th>2</th>\n      <td>Clara</td>\n      <td>7</td>\n      <td>13</td>\n      <td>7</td>\n      <td>31</td>\n      <td>7</td>\n      <td>0</td>\n      <td>0</td>\n      <td>0</td>\n      <td>65</td>\n      <td>0</td>\n    </tr>\n    <tr>\n      <th>2</th>\n      <td>Lais</td>\n      <td>4</td>\n      <td>3</td>\n      <td>7</td>\n      <td>18</td>\n      <td>0</td>\n      <td>0</td>\n      <td>0</td>\n      <td>14</td>\n      <td>46</td>\n      <td>0</td>\n    </tr>\n    <tr>\n      <th>2</th>\n      <td>Theo</td>\n      <td>8</td>\n      <td>3</td>\n      <td>5</td>\n      <td>14</td>\n      <td>3</td>\n      <td>0</td>\n      <td>14</td>\n      <td>2</td>\n      <td>49</td>\n      <td>0</td>\n    </tr>\n    <tr>\n      <th>3</th>\n      <td>Theo</td>\n      <td>18</td>\n      <td>3</td>\n      <td>10</td>\n      <td>11</td>\n      <td>2</td>\n      <td>0</td>\n      <td>13</td>\n      <td>0</td>\n      <td>57</td>\n      <td>0</td>\n    </tr>\n    <tr>\n      <th>3</th>\n      <td>Radif</td>\n      <td>-2</td>\n      <td>5</td>\n      <td>5</td>\n      <td>24</td>\n      <td>4</td>\n      <td>0</td>\n      <td>12</td>\n      <td>0</td>\n      <td>48</td>\n      <td>0</td>\n    </tr>\n  </tbody>\n</table>\n</div>"
     },
     "metadata": {},
     "execution_count": 17
    }
   ],
   "source": [
    "df_indexed['Posicao'] = 0\n",
    "df_indexed.head(10)"
   ]
  },
  {
   "cell_type": "code",
   "execution_count": null,
   "metadata": {},
   "outputs": [],
   "source": []
  }
 ]
}