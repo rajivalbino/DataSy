{
 "metadata": {
  "language_info": {
   "codemirror_mode": {
    "name": "ipython",
    "version": 3
   },
   "file_extension": ".py",
   "mimetype": "text/x-python",
   "name": "python",
   "nbconvert_exporter": "python",
   "pygments_lexer": "ipython3",
   "version": "3.8.5-final"
  },
  "orig_nbformat": 2,
  "kernelspec": {
   "name": "Python 3.8.5 32-bit",
   "display_name": "Python 3.8.5 32-bit",
   "metadata": {
    "interpreter": {
     "hash": "6d58817d7a36abfa3a827e4c983e24a2b2aeec7ad475bf8b9406aeab7b3302d2"
    }
   }
  }
 },
 "nbformat": 4,
 "nbformat_minor": 2,
 "cells": [
  {
   "cell_type": "markdown",
   "metadata": {},
   "source": [
    "### Instructions as funcitons"
   ]
  },
  {
   "cell_type": "code",
   "execution_count": 1,
   "metadata": {},
   "outputs": [],
   "source": [
    "import sqlite3\n",
    "import random\n",
    "import datetime\n",
    "import time\n",
    "\n",
    "conn = sqlite3.connect('files/loja.db')\n",
    "c = conn.cursor()"
   ]
  },
  {
   "cell_type": "code",
   "execution_count": 5,
   "metadata": {},
   "outputs": [],
   "source": [
    "def create_table_produtos(cursor=c, connection=conn):\n",
    "    cursor.execute('CREATE TABLE IF NOT EXISTS Produtos('\\\n",
    "                   'ID INTEGER PRIMARY KEY AUTOINCREMENT NOT NULL, '\\\n",
    "                   'Date TEXT, '\\\n",
    "                   'ProdName TEXT, '\\\n",
    "                   'Value REAL)')\n",
    "    connection.commit()\n",
    "\n",
    "def data_insert(ProdName, Value, cursor=c, connection=conn):\n",
    "    cursor.execute('INSERT INTO Produtos (Date, ProdName, Value) VALUES (?, ?, ?)', (datetime.datetime.now(), ProdName, Value))\n",
    "    connection.commit()\n",
    "\n",
    "def show_all(cursor=c, connection=conn):\n",
    "    cursor.execute('SELECT * FROM Produtos')\n",
    "    for r in cursor.fetchall():\n",
    "        print(r)"
   ]
  },
  {
   "cell_type": "code",
   "execution_count": 4,
   "metadata": {},
   "outputs": [],
   "source": [
    "create_table_produtos(c, conn)\n",
    "\n",
    "for i in range(10):\n",
    "    data_insert('Camisa'+str(i), random.randrange(50,100))\n",
    "    time.sleep(1)"
   ]
  },
  {
   "cell_type": "code",
   "execution_count": 6,
   "metadata": {},
   "outputs": [
    {
     "output_type": "stream",
     "name": "stdout",
     "text": [
      "(1, '2020-10-14 19:39:15.402531', 'Camisa0', 95.0)\n(2, '2020-10-14 19:39:16.408800', 'Camisa1', 95.0)\n(3, '2020-10-14 19:39:17.415822', 'Camisa2', 51.0)\n(4, '2020-10-14 19:39:18.426689', 'Camisa3', 75.0)\n(5, '2020-10-14 19:39:19.435903', 'Camisa4', 63.0)\n(6, '2020-10-14 19:39:20.450029', 'Camisa5', 61.0)\n(7, '2020-10-14 19:39:21.459603', 'Camisa6', 98.0)\n(8, '2020-10-14 19:39:22.475463', 'Camisa7', 80.0)\n(9, '2020-10-14 19:39:23.484507', 'Camisa8', 78.0)\n(10, '2020-10-14 19:39:24.496378', 'Camisa9', 50.0)\n"
     ]
    }
   ],
   "source": [
    "show_all()"
   ]
  },
  {
   "cell_type": "code",
   "execution_count": 7,
   "metadata": {},
   "outputs": [],
   "source": [
    "c.close()\n",
    "conn.close()"
   ]
  },
  {
   "cell_type": "code",
   "execution_count": null,
   "metadata": {},
   "outputs": [],
   "source": []
  }
 ]
}