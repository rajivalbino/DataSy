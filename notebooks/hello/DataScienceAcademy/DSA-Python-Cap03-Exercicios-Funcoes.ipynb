{
 "cells": [
  {
   "cell_type": "markdown",
   "metadata": {},
   "source": [
    "# <font color='blue'>Data Science Academy - Python Fundamentos - Capítulo 3</font>\n",
    "\n",
    "## Download: http://github.com/dsacademybr"
   ]
  },
  {
   "cell_type": "code",
   "execution_count": 2,
   "metadata": {
    "tags": []
   },
   "outputs": [
    {
     "output_type": "stream",
     "name": "stdout",
     "text": "Versão da Linguagem Python Usada Neste Jupyter Notebook: 3.8.5\n"
    }
   ],
   "source": [
    "# Versão da Linguagem Python\n",
    "from platform import python_version\n",
    "print('Versão da Linguagem Python Usada Neste Jupyter Notebook:', python_version())"
   ]
  },
  {
   "cell_type": "markdown",
   "metadata": {},
   "source": [
    "## Exercícios - Métodos e Funções"
   ]
  },
  {
   "cell_type": "code",
   "execution_count": 5,
   "metadata": {
    "tags": []
   },
   "outputs": [
    {
     "output_type": "stream",
     "name": "stdout",
     "text": "[2, 4, 6, 8, 10, 12, 14, 16, 18]\n"
    }
   ],
   "source": [
    "# Exercício 1 - Crie uma função que imprima a sequência de números pares entre 1 e 20 (a função não recebe parâmetro) e \n",
    "# depois faça uma chamada à função para listar os números    \n",
    "def func1():\n",
    "    print([n for n in range(2,20,2)])\n",
    "\n",
    "func1()"
   ]
  },
  {
   "cell_type": "code",
   "execution_count": 6,
   "metadata": {
    "tags": []
   },
   "outputs": [
    {
     "output_type": "stream",
     "name": "stdout",
     "text": "CEBOLA\n"
    }
   ],
   "source": [
    "# Exercício 2 - Crie uam função que receba uma string como argumento e retorne a mesma string em letras maiúsculas.\n",
    "# Faça uma chamada à função, passando como parâmetro uma string\n",
    "def func2(st):\n",
    "    return st.upper()\n",
    "\n",
    "print(func2('cebola'))"
   ]
  },
  {
   "cell_type": "code",
   "execution_count": 14,
   "metadata": {
    "tags": []
   },
   "outputs": [
    {
     "output_type": "stream",
     "name": "stdout",
     "text": "[1, 2, 3, 4, &#39;a&#39;, &#39;A&#39;]\n"
    }
   ],
   "source": [
    "# Exercício 3 - Crie uma função que receba como parâmetro uma lista de 4 elementos, adicione 2 elementos a lista e \n",
    "# imprima a lista\n",
    "def func3(lt):\n",
    "    return lt + ['a', 'A']\n",
    "\n",
    "print(func3([1, 2, 3, 4]))"
   ]
  },
  {
   "cell_type": "code",
   "execution_count": 18,
   "metadata": {
    "tags": []
   },
   "outputs": [
    {
     "output_type": "stream",
     "name": "stdout",
     "text": "Param1: cibola\nParam1: cibola\nParam2: sepo\nParam3: chibata\nParam4: pantim\n"
    }
   ],
   "source": [
    "# Exercício 4 - Crie uma função que receba um argumento formal e uma possível lista de elementos. Faça duas chamadas \n",
    "# à função, com apenas 1 elemento e na segunda chamada com 4 elementos\n",
    "def func4(par1, *parList):\n",
    "    print('Param1: ' + par1)\n",
    "    for i,p in enumerate(parList,2):\n",
    "        print('Param' + str(i) + ': ' + p)\n",
    "\n",
    "func4('cibola')\n",
    "func4('cibola', 'sepo', 'chibata', 'pantim')"
   ]
  },
  {
   "cell_type": "code",
   "execution_count": 20,
   "metadata": {},
   "outputs": [
    {
     "output_type": "execute_result",
     "data": {
      "text/plain": "5"
     },
     "metadata": {},
     "execution_count": 20
    }
   ],
   "source": [
    "# Exercício 5 - Crie uma função anônima e atribua seu retorno a uma variável chamada soma. A expressão vai receber 2 \n",
    "# números como parâmetro e retornar a soma deles\n",
    "soma = lambda x,y: x+y\n",
    "soma(2,3)"
   ]
  },
  {
   "cell_type": "code",
   "execution_count": 22,
   "metadata": {
    "tags": []
   },
   "outputs": [
    {
     "output_type": "stream",
     "name": "stdout",
     "text": "Dentro da função o total é:  30\nFora da função o total é:  0\n"
    }
   ],
   "source": [
    "# Exercício 6 - Execute o código abaixo e certifique-se que compreende a diferença entre variável global e local\n",
    "total = 0\n",
    "def soma( arg1, arg2 ):\n",
    "    total = arg1 + arg2; \n",
    "    print (\"Dentro da função o total é: \", total)\n",
    "    return total\n",
    "\n",
    "\n",
    "soma( 10, 20 )\n",
    "print (\"Fora da função o total é: \", total)"
   ]
  },
  {
   "cell_type": "code",
   "execution_count": 27,
   "metadata": {
    "tags": []
   },
   "outputs": [
    {
     "output_type": "stream",
     "name": "stdout",
     "text": "[102.56, 97.7, 99.14, 100.03999999999999]\n"
    }
   ],
   "source": [
    "# Exercício 7 - Abaixo você encontra uma lista com temperaturas em graus Celsius\n",
    "# Crie uma função anônima que converta cada temperatura para Fahrenheit\n",
    "# Dica: para conseguir realizar este exercício, você deve criar sua função lambda, dentro de uma função \n",
    "# (que será estudada no próximo capítulo). Isso permite aplicar sua função a cada elemento da lista\n",
    "# Como descobrir a fórmula matemática que converte de Celsius para Fahrenheit? Pesquise!!!\n",
    "Celsius = [39.2, 36.5, 37.3, 37.8]\n",
    "Fahrenheit = map(lambda Tc: 9*Tc/5 + 32, Celsius)\n",
    "print (list(Fahrenheit))"
   ]
  },
  {
   "cell_type": "code",
   "execution_count": 28,
   "metadata": {},
   "outputs": [
    {
     "output_type": "execute_result",
     "data": {
      "text/plain": "[&#39;__class__&#39;,\n &#39;__contains__&#39;,\n &#39;__delattr__&#39;,\n &#39;__delitem__&#39;,\n &#39;__dir__&#39;,\n &#39;__doc__&#39;,\n &#39;__eq__&#39;,\n &#39;__format__&#39;,\n &#39;__ge__&#39;,\n &#39;__getattribute__&#39;,\n &#39;__getitem__&#39;,\n &#39;__gt__&#39;,\n &#39;__hash__&#39;,\n &#39;__init__&#39;,\n &#39;__init_subclass__&#39;,\n &#39;__iter__&#39;,\n &#39;__le__&#39;,\n &#39;__len__&#39;,\n &#39;__lt__&#39;,\n &#39;__ne__&#39;,\n &#39;__new__&#39;,\n &#39;__reduce__&#39;,\n &#39;__reduce_ex__&#39;,\n &#39;__repr__&#39;,\n &#39;__reversed__&#39;,\n &#39;__setattr__&#39;,\n &#39;__setitem__&#39;,\n &#39;__sizeof__&#39;,\n &#39;__str__&#39;,\n &#39;__subclasshook__&#39;,\n &#39;clear&#39;,\n &#39;copy&#39;,\n &#39;fromkeys&#39;,\n &#39;get&#39;,\n &#39;items&#39;,\n &#39;keys&#39;,\n &#39;pop&#39;,\n &#39;popitem&#39;,\n &#39;setdefault&#39;,\n &#39;update&#39;,\n &#39;values&#39;]"
     },
     "metadata": {},
     "execution_count": 28
    }
   ],
   "source": [
    "# Exercício 8\n",
    "# Crie um dicionário e liste todos os métodos e atributos do dicionário\n",
    "dt = {}\n",
    "dir(dt)"
   ]
  },
  {
   "cell_type": "code",
   "execution_count": 29,
   "metadata": {},
   "outputs": [
    {
     "output_type": "execute_result",
     "data": {
      "text/plain": "[&#39;BooleanDtype&#39;,\n &#39;Categorical&#39;,\n &#39;CategoricalDtype&#39;,\n &#39;CategoricalIndex&#39;,\n &#39;DataFrame&#39;,\n &#39;DateOffset&#39;,\n &#39;DatetimeIndex&#39;,\n &#39;DatetimeTZDtype&#39;,\n &#39;ExcelFile&#39;,\n &#39;ExcelWriter&#39;,\n &#39;Float64Index&#39;,\n &#39;Grouper&#39;,\n &#39;HDFStore&#39;,\n &#39;Index&#39;,\n &#39;IndexSlice&#39;,\n &#39;Int16Dtype&#39;,\n &#39;Int32Dtype&#39;,\n &#39;Int64Dtype&#39;,\n &#39;Int64Index&#39;,\n &#39;Int8Dtype&#39;,\n &#39;Interval&#39;,\n &#39;IntervalDtype&#39;,\n &#39;IntervalIndex&#39;,\n &#39;MultiIndex&#39;,\n &#39;NA&#39;,\n &#39;NaT&#39;,\n &#39;NamedAgg&#39;,\n &#39;Period&#39;,\n &#39;PeriodDtype&#39;,\n &#39;PeriodIndex&#39;,\n &#39;RangeIndex&#39;,\n &#39;Series&#39;,\n &#39;SparseDtype&#39;,\n &#39;StringDtype&#39;,\n &#39;Timedelta&#39;,\n &#39;TimedeltaIndex&#39;,\n &#39;Timestamp&#39;,\n &#39;UInt16Dtype&#39;,\n &#39;UInt32Dtype&#39;,\n &#39;UInt64Dtype&#39;,\n &#39;UInt64Index&#39;,\n &#39;UInt8Dtype&#39;,\n &#39;__builtins__&#39;,\n &#39;__cached__&#39;,\n &#39;__doc__&#39;,\n &#39;__docformat__&#39;,\n &#39;__file__&#39;,\n &#39;__getattr__&#39;,\n &#39;__git_version__&#39;,\n &#39;__loader__&#39;,\n &#39;__name__&#39;,\n &#39;__package__&#39;,\n &#39;__path__&#39;,\n &#39;__spec__&#39;,\n &#39;__version__&#39;,\n &#39;_config&#39;,\n &#39;_hashtable&#39;,\n &#39;_is_numpy_dev&#39;,\n &#39;_lib&#39;,\n &#39;_libs&#39;,\n &#39;_np_version_under1p16&#39;,\n &#39;_np_version_under1p17&#39;,\n &#39;_np_version_under1p18&#39;,\n &#39;_testing&#39;,\n &#39;_tslib&#39;,\n &#39;_typing&#39;,\n &#39;_version&#39;,\n &#39;api&#39;,\n &#39;array&#39;,\n &#39;arrays&#39;,\n &#39;bdate_range&#39;,\n &#39;compat&#39;,\n &#39;concat&#39;,\n &#39;core&#39;,\n &#39;crosstab&#39;,\n &#39;cut&#39;,\n &#39;date_range&#39;,\n &#39;describe_option&#39;,\n &#39;errors&#39;,\n &#39;eval&#39;,\n &#39;factorize&#39;,\n &#39;get_dummies&#39;,\n &#39;get_option&#39;,\n &#39;infer_freq&#39;,\n &#39;interval_range&#39;,\n &#39;io&#39;,\n &#39;isna&#39;,\n &#39;isnull&#39;,\n &#39;json_normalize&#39;,\n &#39;lreshape&#39;,\n &#39;melt&#39;,\n &#39;merge&#39;,\n &#39;merge_asof&#39;,\n &#39;merge_ordered&#39;,\n &#39;notna&#39;,\n &#39;notnull&#39;,\n &#39;offsets&#39;,\n &#39;option_context&#39;,\n &#39;options&#39;,\n &#39;pandas&#39;,\n &#39;period_range&#39;,\n &#39;pivot&#39;,\n &#39;pivot_table&#39;,\n &#39;plotting&#39;,\n &#39;qcut&#39;,\n &#39;read_clipboard&#39;,\n &#39;read_csv&#39;,\n &#39;read_excel&#39;,\n &#39;read_feather&#39;,\n &#39;read_fwf&#39;,\n &#39;read_gbq&#39;,\n &#39;read_hdf&#39;,\n &#39;read_html&#39;,\n &#39;read_json&#39;,\n &#39;read_orc&#39;,\n &#39;read_parquet&#39;,\n &#39;read_pickle&#39;,\n &#39;read_sas&#39;,\n &#39;read_spss&#39;,\n &#39;read_sql&#39;,\n &#39;read_sql_query&#39;,\n &#39;read_sql_table&#39;,\n &#39;read_stata&#39;,\n &#39;read_table&#39;,\n &#39;reset_option&#39;,\n &#39;set_eng_float_format&#39;,\n &#39;set_option&#39;,\n &#39;show_versions&#39;,\n &#39;test&#39;,\n &#39;testing&#39;,\n &#39;timedelta_range&#39;,\n &#39;to_datetime&#39;,\n &#39;to_numeric&#39;,\n &#39;to_pickle&#39;,\n &#39;to_timedelta&#39;,\n &#39;tseries&#39;,\n &#39;unique&#39;,\n &#39;util&#39;,\n &#39;value_counts&#39;,\n &#39;wide_to_long&#39;]"
     },
     "metadata": {},
     "execution_count": 29
    }
   ],
   "source": [
    "# Exercício 9\n",
    "# Abaixo você encontra a importação do Pandas, um dos principais pacotes Python para análise de dados.\n",
    "# Analise atentamente todos os métodos disponíveis. Um deles você vai usar no próximo exercício.\n",
    "import pandas as pd\n",
    "dir(pd)"
   ]
  },
  {
   "cell_type": "code",
   "execution_count": 34,
   "metadata": {},
   "outputs": [
    {
     "output_type": "execute_result",
     "data": {
      "text/plain": "          admit         gre       gpa      rank\ncount  5.000000    5.000000  5.000000  5.000000\nmean   0.600000  616.000000  3.480000  3.000000\nstd    0.547723  185.148589  0.421307  1.224745\nmin    0.000000  380.000000  2.930000  1.000000\n25%    0.000000  520.000000  3.190000  3.000000\n50%    1.000000  640.000000  3.610000  3.000000\n75%    1.000000  660.000000  3.670000  4.000000\nmax    1.000000  880.000000  4.000000  4.000000",
      "text/html": "<div>\n<style scoped>\n    .dataframe tbody tr th:only-of-type {\n        vertical-align: middle;\n    }\n\n    .dataframe tbody tr th {\n        vertical-align: top;\n    }\n\n    .dataframe thead th {\n        text-align: right;\n    }\n</style>\n<table border=\"1\" class=\"dataframe\">\n  <thead>\n    <tr style=\"text-align: right;\">\n      <th></th>\n      <th>admit</th>\n      <th>gre</th>\n      <th>gpa</th>\n      <th>rank</th>\n    </tr>\n  </thead>\n  <tbody>\n    <tr>\n      <th>count</th>\n      <td>5.000000</td>\n      <td>5.000000</td>\n      <td>5.000000</td>\n      <td>5.000000</td>\n    </tr>\n    <tr>\n      <th>mean</th>\n      <td>0.600000</td>\n      <td>616.000000</td>\n      <td>3.480000</td>\n      <td>3.000000</td>\n    </tr>\n    <tr>\n      <th>std</th>\n      <td>0.547723</td>\n      <td>185.148589</td>\n      <td>0.421307</td>\n      <td>1.224745</td>\n    </tr>\n    <tr>\n      <th>min</th>\n      <td>0.000000</td>\n      <td>380.000000</td>\n      <td>2.930000</td>\n      <td>1.000000</td>\n    </tr>\n    <tr>\n      <th>25%</th>\n      <td>0.000000</td>\n      <td>520.000000</td>\n      <td>3.190000</td>\n      <td>3.000000</td>\n    </tr>\n    <tr>\n      <th>50%</th>\n      <td>1.000000</td>\n      <td>640.000000</td>\n      <td>3.610000</td>\n      <td>3.000000</td>\n    </tr>\n    <tr>\n      <th>75%</th>\n      <td>1.000000</td>\n      <td>660.000000</td>\n      <td>3.670000</td>\n      <td>4.000000</td>\n    </tr>\n    <tr>\n      <th>max</th>\n      <td>1.000000</td>\n      <td>880.000000</td>\n      <td>4.000000</td>\n      <td>4.000000</td>\n    </tr>\n  </tbody>\n</table>\n</div>"
     },
     "metadata": {},
     "execution_count": 34
    }
   ],
   "source": [
    "# ************* Desafio ************* (pesquise na documentação Python)\n",
    "\n",
    "# Exercício 10 - Crie uma função que receba o arquivo abaixo como argumento e retorne um resumo estatístico descritivo \n",
    "# do arquivo. Dica, use Pandas e um de seus métodos, describe()\n",
    "# Arquivo: \"binary.csv\"\n",
    "import pandas as pd\n",
    "file_name = \"binary.csv\"\n",
    "df = pd.read_csv(file_name)\n",
    "df.describe()"
   ]
  },
  {
   "cell_type": "markdown",
   "metadata": {},
   "source": [
    "# Fim"
   ]
  },
  {
   "cell_type": "markdown",
   "metadata": {},
   "source": [
    "### Obrigado - Data Science Academy - <a href=\"http://facebook.com/dsacademybr\">facebook.com/dsacademybr</a>"
   ]
  }
 ],
 "metadata": {
  "kernelspec": {
   "name": "Python 3.8.5 32-bit",
   "display_name": "Python 3.8.5 32-bit",
   "metadata": {
    "interpreter": {
     "hash": "6d58817d7a36abfa3a827e4c983e24a2b2aeec7ad475bf8b9406aeab7b3302d2"
    }
   }
  },
  "language_info": {
   "codemirror_mode": {
    "name": "ipython",
    "version": 3
   },
   "file_extension": ".py",
   "mimetype": "text/x-python",
   "name": "python",
   "nbconvert_exporter": "python",
   "pygments_lexer": "ipython3",
   "version": "3.8.5-final"
  }
 },
 "nbformat": 4,
 "nbformat_minor": 1
}