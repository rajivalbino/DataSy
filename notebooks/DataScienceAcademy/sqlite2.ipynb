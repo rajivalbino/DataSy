{
 "metadata": {
  "language_info": {
   "codemirror_mode": {
    "name": "ipython",
    "version": 3
   },
   "file_extension": ".py",
   "mimetype": "text/x-python",
   "name": "python",
   "nbconvert_exporter": "python",
   "pygments_lexer": "ipython3",
   "version": "3.8.5-final"
  },
  "orig_nbformat": 2,
  "kernelspec": {
   "name": "Python 3.8.5 32-bit",
   "display_name": "Python 3.8.5 32-bit",
   "metadata": {
    "interpreter": {
     "hash": "6d58817d7a36abfa3a827e4c983e24a2b2aeec7ad475bf8b9406aeab7b3302d2"
    }
   }
  }
 },
 "nbformat": 4,
 "nbformat_minor": 2,
 "cells": [
  {
   "cell_type": "markdown",
   "metadata": {},
   "source": [
    "### Instructions as funcitons"
   ]
  },
  {
   "cell_type": "code",
   "execution_count": 18,
   "metadata": {},
   "outputs": [],
   "source": [
    "import sqlite3\n",
    "import random\n",
    "import datetime\n",
    "import time\n",
    "\n",
    "conn = sqlite3.connect('files/loja.db')\n",
    "c = conn.cursor()"
   ]
  },
  {
   "cell_type": "code",
   "execution_count": 19,
   "metadata": {},
   "outputs": [],
   "source": [
    "def create_table_produtos(cursor=c, connection=conn):\n",
    "    cursor.execute('CREATE TABLE IF NOT EXISTS Produtos('\\\n",
    "                   'ID INTEGER PRIMARY KEY AUTOINCREMENT NOT NULL, '\\\n",
    "                   'Date TEXT, '\\\n",
    "                   'ProdName TEXT, '\\\n",
    "                   'Value REAL)')\n",
    "    connection.commit()\n",
    "\n",
    "def data_insert(prodName, value, cursor=c, connection=conn):\n",
    "    cursor.execute('INSERT INTO Produtos (Date, ProdName, Value) VALUES (?, ?, ?)', (datetime.datetime.now(), prodName, value))\n",
    "    connection.commit()\n",
    "\n",
    "def show_all(cursor=c, connection=conn):\n",
    "    cursor.execute('SELECT * FROM Produtos')\n",
    "    for r in cursor.fetchall():\n",
    "        print(r)\n",
    "\n",
    "def show_where_value_above(value, cursor=c, connection=conn):\n",
    "    cursor.execute('SELECT * FROM Produtos WHERE Value > ' + str(value))\n",
    "    for r in cursor.fetchall():\n",
    "        print(r)\n",
    "\n",
    "def show_all_values(cursor=c, connection=conn):\n",
    "    cursor.execute('SELECT * FROM Produtos')\n",
    "    for r in cursor.fetchall():\n",
    "        print(r[3])\n",
    "\n",
    "# tired of cursor and connection rewriting\n",
    "def increase_prices(value):\n",
    "    c.execute('UPDATE Produtos SET Value = Value + ' + str(value) + ' WHERE Value < 70')\n",
    "    conn.commit()\n",
    "\n",
    "def remove_expensive(value):\n",
    "    c.execute('DELETE FROM Produtos WHERE Value > ' + str(value))\n",
    "    conn.commit()"
   ]
  },
  {
   "cell_type": "code",
   "execution_count": 20,
   "metadata": {},
   "outputs": [],
   "source": [
    "create_table_produtos(c, conn)\n",
    "\n",
    "for i in range(10):\n",
    "    data_insert('Camisa'+str(i), random.randrange(50,100))\n",
    "    time.sleep(1)"
   ]
  },
  {
   "cell_type": "code",
   "execution_count": 21,
   "metadata": {},
   "outputs": [
    {
     "output_type": "stream",
     "name": "stdout",
     "text": [
      "(1, '2020-10-14 19:39:15.402531', 'Camisa0', 95.0)\n(2, '2020-10-14 19:39:16.408800', 'Camisa1', 95.0)\n(3, '2020-10-14 19:39:17.415822', 'Camisa2', 51.0)\n(4, '2020-10-14 19:39:18.426689', 'Camisa3', 75.0)\n(5, '2020-10-14 19:39:19.435903', 'Camisa4', 63.0)\n(6, '2020-10-14 19:39:20.450029', 'Camisa5', 61.0)\n(7, '2020-10-14 19:39:21.459603', 'Camisa6', 98.0)\n(8, '2020-10-14 19:39:22.475463', 'Camisa7', 80.0)\n(9, '2020-10-14 19:39:23.484507', 'Camisa8', 78.0)\n(10, '2020-10-14 19:39:24.496378', 'Camisa9', 50.0)\n(11, '2020-10-14 19:59:16.452675', 'Camisa0', 79.0)\n(12, '2020-10-14 19:59:17.464848', 'Camisa1', 74.0)\n(13, '2020-10-14 19:59:18.479100', 'Camisa2', 87.0)\n(14, '2020-10-14 19:59:19.490861', 'Camisa3', 51.0)\n(15, '2020-10-14 19:59:20.501398', 'Camisa4', 85.0)\n(16, '2020-10-14 19:59:21.511364', 'Camisa5', 76.0)\n(17, '2020-10-14 19:59:22.522685', 'Camisa6', 53.0)\n(18, '2020-10-14 19:59:23.537671', 'Camisa7', 76.0)\n(19, '2020-10-14 19:59:24.553068', 'Camisa8', 63.0)\n(20, '2020-10-14 19:59:25.563063', 'Camisa9', 75.0)\n"
     ]
    }
   ],
   "source": [
    "show_all()"
   ]
  },
  {
   "cell_type": "code",
   "execution_count": 22,
   "metadata": {},
   "outputs": [
    {
     "output_type": "stream",
     "name": "stdout",
     "text": [
      "(1, '2020-10-14 19:39:15.402531', 'Camisa0', 95.0)\n(2, '2020-10-14 19:39:16.408800', 'Camisa1', 95.0)\n(4, '2020-10-14 19:39:18.426689', 'Camisa3', 75.0)\n(7, '2020-10-14 19:39:21.459603', 'Camisa6', 98.0)\n(8, '2020-10-14 19:39:22.475463', 'Camisa7', 80.0)\n(9, '2020-10-14 19:39:23.484507', 'Camisa8', 78.0)\n(11, '2020-10-14 19:59:16.452675', 'Camisa0', 79.0)\n(12, '2020-10-14 19:59:17.464848', 'Camisa1', 74.0)\n(13, '2020-10-14 19:59:18.479100', 'Camisa2', 87.0)\n(15, '2020-10-14 19:59:20.501398', 'Camisa4', 85.0)\n(16, '2020-10-14 19:59:21.511364', 'Camisa5', 76.0)\n(18, '2020-10-14 19:59:23.537671', 'Camisa7', 76.0)\n(20, '2020-10-14 19:59:25.563063', 'Camisa9', 75.0)\n"
     ]
    }
   ],
   "source": [
    "show_where_value_above(70)"
   ]
  },
  {
   "cell_type": "code",
   "execution_count": 23,
   "metadata": {},
   "outputs": [
    {
     "output_type": "stream",
     "name": "stdout",
     "text": [
      "95.0\n95.0\n51.0\n75.0\n63.0\n61.0\n98.0\n80.0\n78.0\n50.0\n79.0\n74.0\n87.0\n51.0\n85.0\n76.0\n53.0\n76.0\n63.0\n75.0\n"
     ]
    }
   ],
   "source": [
    "show_all_values()"
   ]
  },
  {
   "cell_type": "code",
   "execution_count": 24,
   "metadata": {},
   "outputs": [
    {
     "output_type": "stream",
     "name": "stdout",
     "text": [
      "(1, '2020-10-14 19:39:15.402531', 'Camisa0', 95.0)\n(2, '2020-10-14 19:39:16.408800', 'Camisa1', 95.0)\n(3, '2020-10-14 19:39:17.415822', 'Camisa2', 61.0)\n(4, '2020-10-14 19:39:18.426689', 'Camisa3', 75.0)\n(5, '2020-10-14 19:39:19.435903', 'Camisa4', 73.0)\n(6, '2020-10-14 19:39:20.450029', 'Camisa5', 71.0)\n(7, '2020-10-14 19:39:21.459603', 'Camisa6', 98.0)\n(8, '2020-10-14 19:39:22.475463', 'Camisa7', 80.0)\n(9, '2020-10-14 19:39:23.484507', 'Camisa8', 78.0)\n(10, '2020-10-14 19:39:24.496378', 'Camisa9', 60.0)\n(11, '2020-10-14 19:59:16.452675', 'Camisa0', 79.0)\n(12, '2020-10-14 19:59:17.464848', 'Camisa1', 74.0)\n(13, '2020-10-14 19:59:18.479100', 'Camisa2', 87.0)\n(14, '2020-10-14 19:59:19.490861', 'Camisa3', 61.0)\n(15, '2020-10-14 19:59:20.501398', 'Camisa4', 85.0)\n(16, '2020-10-14 19:59:21.511364', 'Camisa5', 76.0)\n(17, '2020-10-14 19:59:22.522685', 'Camisa6', 63.0)\n(18, '2020-10-14 19:59:23.537671', 'Camisa7', 76.0)\n(19, '2020-10-14 19:59:24.553068', 'Camisa8', 73.0)\n(20, '2020-10-14 19:59:25.563063', 'Camisa9', 75.0)\n"
     ]
    }
   ],
   "source": [
    "increase_prices(10)\n",
    "show_all()"
   ]
  },
  {
   "cell_type": "code",
   "execution_count": 25,
   "metadata": {},
   "outputs": [
    {
     "output_type": "stream",
     "name": "stdout",
     "text": [
      "(3, '2020-10-14 19:39:17.415822', 'Camisa2', 61.0)\n(4, '2020-10-14 19:39:18.426689', 'Camisa3', 75.0)\n(5, '2020-10-14 19:39:19.435903', 'Camisa4', 73.0)\n(6, '2020-10-14 19:39:20.450029', 'Camisa5', 71.0)\n(8, '2020-10-14 19:39:22.475463', 'Camisa7', 80.0)\n(9, '2020-10-14 19:39:23.484507', 'Camisa8', 78.0)\n(10, '2020-10-14 19:39:24.496378', 'Camisa9', 60.0)\n(11, '2020-10-14 19:59:16.452675', 'Camisa0', 79.0)\n(12, '2020-10-14 19:59:17.464848', 'Camisa1', 74.0)\n(13, '2020-10-14 19:59:18.479100', 'Camisa2', 87.0)\n(14, '2020-10-14 19:59:19.490861', 'Camisa3', 61.0)\n(15, '2020-10-14 19:59:20.501398', 'Camisa4', 85.0)\n(16, '2020-10-14 19:59:21.511364', 'Camisa5', 76.0)\n(17, '2020-10-14 19:59:22.522685', 'Camisa6', 63.0)\n(18, '2020-10-14 19:59:23.537671', 'Camisa7', 76.0)\n(19, '2020-10-14 19:59:24.553068', 'Camisa8', 73.0)\n(20, '2020-10-14 19:59:25.563063', 'Camisa9', 75.0)\n"
     ]
    }
   ],
   "source": [
    "remove_expensive(90)\n",
    "show_all()"
   ]
  },
  {
   "cell_type": "code",
   "execution_count": 26,
   "metadata": {},
   "outputs": [],
   "source": [
    "c.close()\n",
    "conn.close()"
   ]
  },
  {
   "cell_type": "code",
   "execution_count": null,
   "metadata": {},
   "outputs": [],
   "source": []
  }
 ]
}