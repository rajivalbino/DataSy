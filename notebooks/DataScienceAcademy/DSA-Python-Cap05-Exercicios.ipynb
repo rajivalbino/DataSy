{
 "cells": [
  {
   "cell_type": "markdown",
   "metadata": {},
   "source": [
    "# <font color='blue'>Data Science Academy - Python Fundamentos - Capítulo 5</font>\n",
    "\n",
    "## Download: http://github.com/dsacademybr"
   ]
  },
  {
   "cell_type": "code",
   "execution_count": 1,
   "metadata": {},
   "outputs": [
    {
     "output_type": "stream",
     "name": "stdout",
     "text": [
      "Versão da Linguagem Python Usada Neste Jupyter Notebook: 3.8.5\n"
     ]
    }
   ],
   "source": [
    "# Versão da Linguagem Python\n",
    "from platform import python_version\n",
    "print('Versão da Linguagem Python Usada Neste Jupyter Notebook:', python_version())"
   ]
  },
  {
   "cell_type": "markdown",
   "metadata": {},
   "source": [
    "## Exercícios"
   ]
  },
  {
   "cell_type": "code",
   "execution_count": 2,
   "metadata": {},
   "outputs": [],
   "source": [
    "# Exercício 1 - Crie um objeto a partir da classe abaixo, chamado roc1, passando 2 parâmetros e depois faça uma chamada\n",
    "# aos atributos e métodos\n",
    "from math import sqrt\n",
    "\n",
    "class Rocket():\n",
    "     \n",
    "    def __init__(self, x=0, y=0):\n",
    "        self.x = x\n",
    "        self.y = y\n",
    "        \n",
    "    def move_rocket(self, x_increment=0, y_increment=1):\n",
    "        self.x += x_increment\n",
    "        self.y += y_increment\n",
    "        \n",
    "    def print_rocket(self):\n",
    "        print(self.x, self.y)\n",
    "        "
   ]
  },
  {
   "cell_type": "code",
   "execution_count": 3,
   "metadata": {},
   "outputs": [
    {
     "output_type": "stream",
     "name": "stdout",
     "text": [
      "2 1\n5 4\n"
     ]
    }
   ],
   "source": [
    "roc1 = Rocket(2,1)\n",
    "roc1.print_rocket()\n",
    "roc1.move_rocket(3,3)\n",
    "roc1.print_rocket()"
   ]
  },
  {
   "cell_type": "code",
   "execution_count": 4,
   "metadata": {},
   "outputs": [],
   "source": [
    "# Exercício 2 - Crie uma classe chamada Pessoa() com os atributos: nome, cidade, telefone e e-mail. Use pelo menos 2\n",
    "# métodos especiais na sua classe. Crie um objeto da sua classe e faça uma chamada a pelo menos um dos seus métodos\n",
    "# especiais.\n",
    "class Pessoa():\n",
    "\n",
    "    def __init__(self, _nome, _cpf, _cidade, _telefone, _email):\n",
    "        self.nome = _nome\n",
    "        self.cpf = _cpf\n",
    "        self.cidade = _cidade\n",
    "        self.telefone = _telefone\n",
    "        self.email = _email\n",
    "    \n",
    "    def __eq__(self, outro):\n",
    "        return self.cpf == outro.cpf\n",
    "    \n",
    "    def print_dados(self):\n",
    "        print('Nome: ' + self.nome)\n",
    "        print('CPF: ' + self.cpf)\n",
    "        print('Cidade: ' + self.cidade)\n",
    "        print('Telefone: ' + self.telefone)\n",
    "        print('Email: ' + self.email)"
   ]
  },
  {
   "cell_type": "code",
   "execution_count": 5,
   "metadata": {},
   "outputs": [],
   "source": [
    "pes1 = Pessoa('Weliso', '123.456.789-00', 'Catolé', '9999-9999', 'weliso@facebook.com')\n",
    "pes2 = Pessoa('Jorj', '987.654.321-00', 'Ribera', '1234-5678', 'jorj@facebook.com')\n",
    "pes3 = Pessoa('Robacpf', '123.456.789-00', 'Serra', '0000-0000', 'roba@facebook.com')"
   ]
  },
  {
   "cell_type": "code",
   "execution_count": 6,
   "metadata": {},
   "outputs": [
    {
     "output_type": "stream",
     "name": "stdout",
     "text": [
      "Nome: Weliso\nCPF: 123.456.789-00\nCidade: Catolé\nTelefone: 9999-9999\nEmail: weliso@facebook.com\n"
     ]
    }
   ],
   "source": [
    "pes1.print_dados()"
   ]
  },
  {
   "cell_type": "code",
   "execution_count": 7,
   "metadata": {},
   "outputs": [
    {
     "output_type": "stream",
     "name": "stdout",
     "text": [
      "False\n"
     ]
    }
   ],
   "source": [
    "print(pes1 == pes2)"
   ]
  },
  {
   "cell_type": "code",
   "execution_count": 8,
   "metadata": {},
   "outputs": [
    {
     "output_type": "stream",
     "name": "stdout",
     "text": [
      "True\n"
     ]
    }
   ],
   "source": [
    "print(pes1 == pes3)"
   ]
  },
  {
   "cell_type": "code",
   "execution_count": 30,
   "metadata": {},
   "outputs": [],
   "source": [
    "# Exercício 3 - Crie a classe Smartphone com 2 atributos, tamanho e interface e crie a classe MP3Player com os \n",
    "# atributos capacidade. A classe MP3player deve herdar os atributos da classe Smartphone.\n",
    "class Smartphone():\n",
    "\n",
    "    def __init__(self, _tamanho, _interface):\n",
    "        self.tamanho = _tamanho\n",
    "        self.interface = _interface\n",
    "        print('Chama')\n",
    "    \n",
    "    def print_attr(self):\n",
    "        print('Tamanho: ', self.tamanho, ' in')\n",
    "        print('Interface: ' + self.interface)"
   ]
  },
  {
   "cell_type": "code",
   "execution_count": 31,
   "metadata": {},
   "outputs": [
    {
     "output_type": "stream",
     "name": "stdout",
     "text": [
      "Chama\n"
     ]
    }
   ],
   "source": [
    "iphone = Smartphone(6.2, 'ios')"
   ]
  },
  {
   "cell_type": "code",
   "execution_count": 32,
   "metadata": {},
   "outputs": [
    {
     "output_type": "stream",
     "name": "stdout",
     "text": [
      "Tamanho:  6.2  in\nInterface: ios\n"
     ]
    }
   ],
   "source": [
    "iphone.print_attr()"
   ]
  },
  {
   "cell_type": "code",
   "execution_count": 46,
   "metadata": {},
   "outputs": [],
   "source": [
    "class MP3Player(Smartphone):\n",
    "\n",
    "    def __init__(self, _tamanho, _interface, _capacidade):\n",
    "        Smartphone.__init__(self, _tamanho, _interface)\n",
    "        self.capacidade = _capacidade\n",
    "    \n",
    "    def print_attr(self):\n",
    "        #print('Tamanho: ', self.tamanho, ' in')\n",
    "        #print('Interface: ' + self.interface)\n",
    "        Smartphone.print_attr(self)\n",
    "        print('Capacidade: ' + self.capacidade)"
   ]
  },
  {
   "cell_type": "code",
   "execution_count": 47,
   "metadata": {},
   "outputs": [
    {
     "output_type": "stream",
     "name": "stdout",
     "text": [
      "Chama\n"
     ]
    }
   ],
   "source": [
    "mp = MP3Player(6.0, 'android', '256gb')"
   ]
  },
  {
   "cell_type": "code",
   "execution_count": 48,
   "metadata": {},
   "outputs": [
    {
     "output_type": "stream",
     "name": "stdout",
     "text": [
      "Tamanho:  6.0  in\nInterface: android\nCapacidade: 256gb\n"
     ]
    }
   ],
   "source": [
    "mp.print_attr()"
   ]
  },
  {
   "cell_type": "markdown",
   "metadata": {},
   "source": [
    "### FIM"
   ]
  },
  {
   "cell_type": "markdown",
   "metadata": {},
   "source": [
    "### Obrigado - Data Science Academy - <a href=\"http://facebook.com/dsacademybr\">facebook.com/dsacademybr</a>"
   ]
  }
 ],
 "metadata": {
  "kernelspec": {
   "name": "Python 3.8.5 32-bit",
   "display_name": "Python 3.8.5 32-bit",
   "metadata": {
    "interpreter": {
     "hash": "6d58817d7a36abfa3a827e4c983e24a2b2aeec7ad475bf8b9406aeab7b3302d2"
    }
   }
  },
  "language_info": {
   "codemirror_mode": {
    "name": "ipython",
    "version": 3
   },
   "file_extension": ".py",
   "mimetype": "text/x-python",
   "name": "python",
   "nbconvert_exporter": "python",
   "pygments_lexer": "ipython3",
   "version": "3.8.5-final"
  }
 },
 "nbformat": 4,
 "nbformat_minor": 1
}